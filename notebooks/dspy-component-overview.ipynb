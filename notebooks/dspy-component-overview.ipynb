{
 "cells": [
  {
   "cell_type": "markdown",
   "metadata": {},
   "source": [
    "# DSPy Component Overview\n",
    "\n",
    "In this notebook, we will explore the high level components of DSPy and build an intuition for how each of them work together."
   ]
  },
  {
   "cell_type": "markdown",
   "metadata": {},
   "source": [
    "## Notebook Setup"
   ]
  },
  {
   "cell_type": "code",
   "execution_count": 1,
   "metadata": {},
   "outputs": [
    {
     "name": "stderr",
     "output_type": "stream",
     "text": [
      "/Users/dkhundley/Documents/Repositories/dspy-tutorial/.venv/lib/python3.12/site-packages/tqdm/auto.py:21: TqdmWarning: IProgress not found. Please update jupyter and ipywidgets. See https://ipywidgets.readthedocs.io/en/stable/user_install.html\n",
      "  from .autonotebook import tqdm as notebook_tqdm\n"
     ]
    }
   ],
   "source": [
    "# Importing the necessary Python libraries\n",
    "import os\n",
    "import json\n",
    "import yaml\n",
    "\n",
    "import dspy"
   ]
  },
  {
   "cell_type": "code",
   "execution_count": 2,
   "metadata": {},
   "outputs": [],
   "source": [
    "# Loading my personal API keys from file (not pushed to GitHub due to .gitignore file)\n",
    "if os.path.exists('../keys/api_keys.yaml'):\n",
    "    with open('../keys/api_keys.yaml') as f:\n",
    "        api_keys = yaml.safe_load(f)"
   ]
  },
  {
   "cell_type": "markdown",
   "metadata": {},
   "source": [
    "## Language Model (LM)"
   ]
  },
  {
   "cell_type": "code",
   "execution_count": 3,
   "metadata": {},
   "outputs": [],
   "source": [
    "# Setting the two different language models (LMs) we will work with\n",
    "try:\n",
    "    lm_4o_mini = dspy.LM('openai/gpt-4o-mini', api_key = os.environ['OPENAI_API_KEY'])\n",
    "    lm_4o = dspy.LM('openai/gpt-4o', api_key = os.environ['OPENAI_API_KEY'])\n",
    "except:\n",
    "    lm_4o_mini = dspy.LM('openai/gpt-4o-mini', api_key = api_keys['OPENAI_API_KEY'])\n",
    "    lm_4o = dspy.LM('openai/gpt-4o', api_key = api_keys['OPENAI_API_KEY'])\n",
    "\n",
    "# Setting DSPy to use GPT-4o-mini as the default LM\n",
    "dspy.configure(lm = lm_4o_mini)"
   ]
  },
  {
   "cell_type": "markdown",
   "metadata": {},
   "source": [
    "## Signatures\n",
    "In DSPy, a **signature** is more or less a blueprint to define what you expect to feed as an **input** versus what you expect to get back as an **output**. Given that our goal may be to optimize our prompt template, our signature does NOT need to contain a robust prompt template that you may be used to forming through trial-and-error experiments. We might provide details to the signature where things may be ambiguous, but by and large, we do not need a fully fledged prompt template to get started.\n",
    "\n",
    "While we don't provide a full prompt template, we may need to supply the signature with a few details to help the model understand what we are specifically expecting. This may include...\n",
    "\n",
    "- Setting the **data type** of the inputs / outputs\n",
    "- Providing a **brief description** of what the input / output is\n",
    "- Providing an expected **input / output structure** of what the inputs / outputs will consist of\n",
    "\n",
    "DSPy offers two ways to create signatures: a **simpler string-based inline signature** and a **more robust class-based signature**. The simpler version is intended to offer a simple means to get going quickly; however, I personally am concerned with the lack of \"rigidity\" that the inline approach offers. Specifically, if you're using an IDE like VS Code, it won't be able to catch syntax errors in the inline version of the signature. Additionally, if you have a complex set of inputs and outputs, that can quickly get messy in the inline approach.\n",
    "\n",
    "That said, I will demonstrate both approaches in this notebook, but in the other tutorials, you will see that I will be using the class-based approach.\n",
    "\n",
    "(Note: In order to make this sample code work, we're going to have to make use of a simple **DSPy module** called `dspy.Predict()`. At this point in the tutorial, we have not yet covered modules, so please skip on down to that section if you want a better intuition on the code here.)"
   ]
  },
  {
   "cell_type": "markdown",
   "metadata": {},
   "source": [
    "### Inline Signature\n",
    "First, let's demonstrate how the inline signature works. We're going to keep it simple by creating a DSPy signature that expects any sentence but returns a Boolean value that represents the sentiment of the sentance. If the sentiment is positive, we will return True; otherwise, we will return False."
   ]
  },
  {
   "cell_type": "code",
   "execution_count": 4,
   "metadata": {},
   "outputs": [
    {
     "name": "stdout",
     "output_type": "stream",
     "text": [
      "Positive sentence: Prediction(\n",
      "    sentiment=True\n",
      ")\n",
      "Negative sentence: Prediction(\n",
      "    sentiment=False\n",
      ")\n"
     ]
    }
   ],
   "source": [
    "# Creating sample sentences representing positive and negative sentiment\n",
    "positive_sentence = \"I am very happy with the results of this project.\"\n",
    "negative_sentence = \"I am disappointed with the outcome of this task.\"\n",
    "\n",
    "# Instantiating a simple DSPy module for sentiment classification\n",
    "dspy_sentiment_classification = dspy.Predict('sentence -> sentiment: bool')\n",
    "\n",
    "# Invoking the DSPy model with each respective sentence.\n",
    "print(f'Positive sentence: {dspy_sentiment_classification(sentence = positive_sentence)}')\n",
    "print(f'Negative sentence: {dspy_sentiment_classification(sentence = negative_sentence)}')"
   ]
  },
  {
   "cell_type": "markdown",
   "metadata": {},
   "source": [
    "### Class-based Signature\n",
    "Now that we've demonstrated the simpler inline-based signature, let's move onto demonstrating the class-based signature. As I stated above, this is my personal preference as things like code IDEs can more easily detect for syntax errors, which is especially important when you start to build a more complex set of inputs and outputs.\n",
    "\n",
    "Notice something additional here that is not possible in the inline-based method: we can provide a docstring at the top of the class-based signature. This helps to guide our later DSPy module to form something like a goal to achieve when performing the prompt template optimization. You shouldn't look at this docstring as something you need to get perfect, as you might in something like trail-and-error prompt engineering testing. Instead, think of it as a high-level guide to help the model understand what you're trying to achieve.\n",
    "\n",
    "In the example below, we're going to do something similar to the idea above but expound upon it to intentionally add complexity."
   ]
  },
  {
   "cell_type": "code",
   "execution_count": 5,
   "metadata": {},
   "outputs": [
    {
     "name": "stdout",
     "output_type": "stream",
     "text": [
      "==================================================\n",
      "************ BUSINESS EMAIL ANALYSIS *************\n",
      "==================================================\n",
      "📊 SENTIMENT: positive\n",
      "📝 TOPIC: quarterly financial report\n",
      "🎩 FORMALITY: formal\n",
      "🔢 WORD COUNT: 27\n",
      "--------------------------------------------------\n",
      "\n",
      "\n",
      "==================================================\n",
      "************ CASUAL MESSAGE ANALYSIS *************\n",
      "==================================================\n",
      "📊 SENTIMENT: positive\n",
      "📝 TOPIC: social gathering\n",
      "🎩 FORMALITY: informal\n",
      "🔢 WORD COUNT: 15\n",
      "--------------------------------------------------\n"
     ]
    }
   ],
   "source": [
    "# Creating a class-based DSPy signature for text analysis\n",
    "class TextAnalysisSignature(dspy.Signature):\n",
    "    \"\"\"Analyze text for sentiment, main topic, and formality level.\"\"\"\n",
    "    \n",
    "    # Setting the input fields\n",
    "    text = dspy.InputField(desc = 'The text to be analyzed')\n",
    "    language = dspy.InputField(desc = 'The language of the text', default = 'English')\n",
    "    \n",
    "    # Setting the output fields\n",
    "    sentiment = dspy.OutputField(desc = 'The sentiment of the text (positive, negative, or neutral)')\n",
    "    topic = dspy.OutputField(desc = 'The main topic of the text')\n",
    "    formality = dspy.OutputField(desc = 'The formality level (formal, informal, or neutral)')\n",
    "    word_count = dspy.OutputField(type = int, desc = 'The number of words in the text')\n",
    "\n",
    "# Creating a module using our custom signature\n",
    "dspy_text_analyzer = dspy.Predict(TextAnalysisSignature)\n",
    "\n",
    "# Creating sample texts for analysis\n",
    "business_email = \"Dear Mr. Johnson, I am writing to follow up on our meeting last week regarding the quarterly financial report. The results exceeded our expectations.\"\n",
    "casual_message = \"Hey! Can't wait to see you this weekend. The party's gonna be awesome!\"\n",
    "\n",
    "# Analyzing the texts\n",
    "business_analysis = dspy_text_analyzer(text = business_email, language = \"English\")\n",
    "casual_analysis = dspy_text_analyzer(text = casual_message, language = \"English\")\n",
    "\n",
    "# Displaying analysis results in a more creative way\n",
    "def display_analysis(title, analysis):\n",
    "    width = 50\n",
    "    print(\"=\" * width)\n",
    "    print(f\" {title} \".center(width, \"*\"))\n",
    "    print(\"=\" * width)\n",
    "    print(f\"📊 SENTIMENT: {analysis.sentiment}\")\n",
    "    print(f\"📝 TOPIC: {analysis.topic}\")\n",
    "    print(f\"🎩 FORMALITY: {analysis.formality}\")\n",
    "    print(f\"🔢 WORD COUNT: {analysis.word_count}\")\n",
    "    print(\"-\" * width)\n",
    "    \n",
    "display_analysis(\"BUSINESS EMAIL ANALYSIS\", business_analysis)\n",
    "print(\"\\n\")\n",
    "display_analysis(\"CASUAL MESSAGE ANALYSIS\", casual_analysis)"
   ]
  },
  {
   "cell_type": "markdown",
   "metadata": {},
   "source": [
    "## Modules\n"
   ]
  },
  {
   "cell_type": "code",
   "execution_count": null,
   "metadata": {},
   "outputs": [],
   "source": []
  },
  {
   "cell_type": "code",
   "execution_count": null,
   "metadata": {},
   "outputs": [],
   "source": []
  }
 ],
 "metadata": {
  "kernelspec": {
   "display_name": "dkhundley_venv",
   "language": "python",
   "name": "dkhundley_venv"
  },
  "language_info": {
   "codemirror_mode": {
    "name": "ipython",
    "version": 3
   },
   "file_extension": ".py",
   "mimetype": "text/x-python",
   "name": "python",
   "nbconvert_exporter": "python",
   "pygments_lexer": "ipython3",
   "version": "3.12.9"
  }
 },
 "nbformat": 4,
 "nbformat_minor": 2
}
