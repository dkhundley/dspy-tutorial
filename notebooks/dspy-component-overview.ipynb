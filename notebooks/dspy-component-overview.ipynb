{
 "cells": [
  {
   "cell_type": "markdown",
   "metadata": {},
   "source": [
    "# DSPy Component Overview\n",
    "\n",
    "In this notebook, we will explore the high level components of DSPy and build an intuition for how each of them work together."
   ]
  },
  {
   "cell_type": "markdown",
   "metadata": {},
   "source": [
    "## Notebook Setup"
   ]
  },
  {
   "cell_type": "code",
   "execution_count": 1,
   "metadata": {},
   "outputs": [
    {
     "name": "stderr",
     "output_type": "stream",
     "text": [
      "/home/vscode/.local/lib/python3.11/site-packages/tqdm/auto.py:21: TqdmWarning: IProgress not found. Please update jupyter and ipywidgets. See https://ipywidgets.readthedocs.io/en/stable/user_install.html\n",
      "  from .autonotebook import tqdm as notebook_tqdm\n"
     ]
    }
   ],
   "source": [
    "# Importing the necessary Python libraries\n",
    "import os\n",
    "import json\n",
    "import yaml\n",
    "\n",
    "import dspy"
   ]
  },
  {
   "cell_type": "code",
   "execution_count": 2,
   "metadata": {},
   "outputs": [],
   "source": [
    "# Loading my personal API keys from file (not pushed to GitHub due to .gitignore file)\n",
    "if os.path.exists('../keys/api_keys.yaml'):\n",
    "    with open('../keys/api_keys.yaml') as f:\n",
    "        api_keys = yaml.safe_load(f)"
   ]
  },
  {
   "cell_type": "markdown",
   "metadata": {},
   "source": [
    "## Language Model (LM)"
   ]
  },
  {
   "cell_type": "code",
   "execution_count": 3,
   "metadata": {},
   "outputs": [],
   "source": [
    "# Setting the two different language models (LMs) we will work with\n",
    "try:\n",
    "    lm_4o_mini = dspy.LM('openai/gpt-4o-mini', api_key = os.environ['OPENAI_API_KEY'])\n",
    "    lm_4o = dspy.LM('openai/gpt-4o', api_key = os.environ['OPENAI_API_KEY'])\n",
    "except:\n",
    "    lm_4o_mini = dspy.LM('openai/gpt-4o-mini', api_key = api_keys['OPENAI_API_KEY'])\n",
    "    lm_4o = dspy.LM('openai/gpt-4o', api_key = api_keys['OPENAI_API_KEY'])\n",
    "\n",
    "# Setting DSPy to use GPT-4o-mini as the default LM\n",
    "dspy.configure(lm = lm_4o_mini)"
   ]
  },
  {
   "cell_type": "markdown",
   "metadata": {},
   "source": [
    "## Signatures\n",
    "In DSPy, a **signature** is more or less a blueprint to define what you expect to feed as an **input** versus what you expect to get back as an **output**. Given that our goal may be to optimize our prompt template, our signature does NOT need to contain a robust prompt template that you may be used to forming through trial-and-error experiments. We might provide details to the signature where things may be ambiguous, but by and large, we do not need a fully fledged prompt template to get started.\n",
    "\n",
    "While we don't provide a full prompt template, we may need to supply the signature with a few details to help the model understand what we are specifically expecting. This may include...\n",
    "\n",
    "- Setting the **data type** of the inputs / outputs\n",
    "- Providing a **brief description** of what the input / output is\n",
    "- Providing an expected **input / output structure** of what the inputs / outputs will consist of\n",
    "\n",
    "DSPy offers two ways to create signatures: a **simpler string-based inline signature** and a **more robust class-based signature**. The simpler version is intended to offer a simple means to get going quickly; however, I personally am concerned with the lack of \"rigidity\" that the inline approach offers. Specifically, if you're using an IDE like VS Code, it won't be able to catch syntax errors in the inline version of the signature. Additionally, if you have a complex set of inputs and outputs, that can quickly get messy in the inline approach.\n",
    "\n",
    "That said, I will demonstrate both approaches in this notebook, but in the other tutorials, you will see that I will be using the class-based approach.\n",
    "\n",
    "(Note: In order to make this sample code work, we're going to have to make use of a simple **DSPy module** called `dspy.Predict()`. At this point in the tutorial, we have not yet covered modules, so please skip on down to that section if you want a better intuition on the code here.)"
   ]
  },
  {
   "cell_type": "markdown",
   "metadata": {},
   "source": [
    "### Inline Signature\n",
    "First, let's demonstrate how the inline signature works. We're going to keep it simple by creating a DSPy signature that expects any sentence but returns a Boolean value that represents the sentiment of the sentance. If the sentiment is positive, we will return True; otherwise, we will return False."
   ]
  },
  {
   "cell_type": "code",
   "execution_count": 5,
   "metadata": {},
   "outputs": [
    {
     "name": "stdout",
     "output_type": "stream",
     "text": [
      "Positive sentence: Prediction(\n",
      "    sentiment=True\n",
      ")\n",
      "Negative sentence: Prediction(\n",
      "    sentiment=False\n",
      ")\n"
     ]
    }
   ],
   "source": [
    "# Creating sample sentences representing positive and negative sentiment\n",
    "positive_sentence = \"I am very happy with the results of this project.\"\n",
    "negative_sentence = \"I am disappointed with the outcome of this task.\"\n",
    "\n",
    "# Instantiating a simple DSPy module for sentiment classification\n",
    "dspy_sentiment_classification = dspy.Predict('sentence -> sentiment: bool')\n",
    "\n",
    "# Invoking the DSPy model with each respective sentence.\n",
    "print(f'Positive sentence: {dspy_sentiment_classification(sentence = positive_sentence)}')\n",
    "print(f'Negative sentence: {dspy_sentiment_classification(sentence = negative_sentence)}')"
   ]
  },
  {
   "cell_type": "markdown",
   "metadata": {},
   "source": [
    "### Class-based Signature"
   ]
  },
  {
   "cell_type": "code",
   "execution_count": null,
   "metadata": {},
   "outputs": [],
   "source": []
  }
 ],
 "metadata": {
  "kernelspec": {
   "display_name": "Python 3",
   "language": "python",
   "name": "python3"
  },
  "language_info": {
   "codemirror_mode": {
    "name": "ipython",
    "version": 3
   },
   "file_extension": ".py",
   "mimetype": "text/x-python",
   "name": "python",
   "nbconvert_exporter": "python",
   "pygments_lexer": "ipython3",
   "version": "3.11.11"
  }
 },
 "nbformat": 4,
 "nbformat_minor": 2
}
