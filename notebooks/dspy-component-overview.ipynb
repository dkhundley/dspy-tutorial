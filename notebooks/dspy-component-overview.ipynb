{
 "cells": [
  {
   "cell_type": "markdown",
   "metadata": {},
   "source": [
    "# DSPy Component Overview\n",
    "\n",
    "In this notebook, we will explore the high level components of DSPy and build an intuition for how each of them work together."
   ]
  },
  {
   "cell_type": "markdown",
   "metadata": {},
   "source": [
    "## Notebook Setup"
   ]
  },
  {
   "cell_type": "code",
   "execution_count": 1,
   "metadata": {},
   "outputs": [
    {
     "name": "stderr",
     "output_type": "stream",
     "text": [
      "/Users/dkhundley/Documents/Repositories/dspy-tutorial/.venv/lib/python3.12/site-packages/tqdm/auto.py:21: TqdmWarning: IProgress not found. Please update jupyter and ipywidgets. See https://ipywidgets.readthedocs.io/en/stable/user_install.html\n",
      "  from .autonotebook import tqdm as notebook_tqdm\n"
     ]
    }
   ],
   "source": [
    "# Importing the necessary Python libraries\n",
    "import os\n",
    "import json\n",
    "import yaml\n",
    "\n",
    "import dspy"
   ]
  },
  {
   "cell_type": "code",
   "execution_count": 2,
   "metadata": {},
   "outputs": [],
   "source": [
    "# Loading my personal API keys from file (not pushed to GitHub due to .gitignore file)\n",
    "if os.path.exists('../keys/api_keys.yaml'):\n",
    "    with open('../keys/api_keys.yaml') as f:\n",
    "        api_keys = yaml.safe_load(f)"
   ]
  },
  {
   "cell_type": "markdown",
   "metadata": {},
   "source": [
    "## Language Model (LM)"
   ]
  },
  {
   "cell_type": "code",
   "execution_count": 3,
   "metadata": {},
   "outputs": [],
   "source": [
    "# Setting the two different language models (LMs) we will work with\n",
    "try:\n",
    "    lm_4o_mini = dspy.LM('openai/gpt-4o-mini', api_key = os.environ['OPENAI_API_KEY'])\n",
    "    lm_4o = dspy.LM('openai/gpt-4o', api_key = os.environ['OPENAI_API_KEY'])\n",
    "except:\n",
    "    lm_4o_mini = dspy.LM('openai/gpt-4o-mini', api_key = api_keys['OPENAI_API_KEY'])\n",
    "    lm_4o = dspy.LM('openai/gpt-4o', api_key = api_keys['OPENAI_API_KEY'])\n",
    "\n",
    "# Setting DSPy to use GPT-4o-mini as the default LM\n",
    "dspy.configure(lm = lm_4o_mini)"
   ]
  },
  {
   "cell_type": "markdown",
   "metadata": {},
   "source": [
    "## Signatures\n",
    "In DSPy, a **signature** is more or less a blueprint to define what you expect to feed as an **input** versus what you expect to get back as an **output**. Given that our goal may be to optimize our prompt template, our signature does NOT need to contain a robust prompt template that you may be used to forming through trial-and-error experiments. We might provide details to the signature where things may be ambiguous, but by and large, we do not need a fully fledged prompt template to get started.\n",
    "\n",
    "While we don't provide a full prompt template, we may need to supply the signature with a few details to help the model understand what we are specifically expecting. This may include...\n",
    "\n",
    "- Setting the **data type** of the inputs / outputs\n",
    "- Providing a **brief description** of what the input / output is\n",
    "- Providing an expected **input / output structure** of what the inputs / outputs will consist of\n",
    "\n",
    "DSPy offers two ways to create signatures: a **simpler string-based inline signature** and a **more robust class-based signature**. The simpler version is intended to offer a simple means to get going quickly; however, I personally am concerned with the lack of \"rigidity\" that the inline approach offers. Specifically, if you're using an IDE like VS Code, it won't be able to catch syntax errors in the inline version of the signature. Additionally, if you have a complex set of inputs and outputs, that can quickly get messy in the inline approach.\n",
    "\n",
    "That said, I will demonstrate both approaches in this notebook, but in the other tutorials, you will see that I will be using the class-based approach.\n",
    "\n",
    "(Note: In order to make this sample code work, we're going to have to make use of a simple **DSPy module** called `dspy.Predict()`. At this point in the tutorial, we have not yet covered modules, so please skip on down to that section if you want a better intuition on the code here.)"
   ]
  },
  {
   "cell_type": "markdown",
   "metadata": {},
   "source": [
    "### Inline Signature\n",
    "First, let's demonstrate how the inline signature works. We're going to keep it simple by creating a DSPy signature that expects any sentence but returns a Boolean value that represents the sentiment of the sentance. If the sentiment is positive, we will return True; otherwise, we will return False."
   ]
  },
  {
   "cell_type": "code",
   "execution_count": 4,
   "metadata": {},
   "outputs": [
    {
     "name": "stdout",
     "output_type": "stream",
     "text": [
      "Positive sentence: Prediction(\n",
      "    sentiment=True\n",
      ")\n",
      "Negative sentence: Prediction(\n",
      "    sentiment=False\n",
      ")\n"
     ]
    }
   ],
   "source": [
    "# Creating sample sentences representing positive and negative sentiment\n",
    "positive_sentence = \"I am very happy with the results of this project.\"\n",
    "negative_sentence = \"I am disappointed with the outcome of this task.\"\n",
    "\n",
    "# Instantiating a simple DSPy module for sentiment classification\n",
    "dspy_sentiment_classification = dspy.Predict('sentence -> sentiment: bool')\n",
    "\n",
    "# Invoking the DSPy model with each respective sentence.\n",
    "print(f'Positive sentence: {dspy_sentiment_classification(sentence = positive_sentence)}')\n",
    "print(f'Negative sentence: {dspy_sentiment_classification(sentence = negative_sentence)}')"
   ]
  },
  {
   "cell_type": "markdown",
   "metadata": {},
   "source": [
    "### Class-based Signature\n",
    "Now that we've demonstrated the simpler inline-based signature, let's move onto demonstrating the class-based signature. As I stated above, this is my personal preference as things like code IDEs can more easily detect for syntax errors, which is especially important when you start to build a more complex set of inputs and outputs.\n",
    "\n",
    "Notice something additional here that is not possible in the inline-based method: we can provide a docstring at the top of the class-based signature. This helps to guide our later DSPy module to form something like a goal to achieve when performing the prompt template optimization. You shouldn't look at this docstring as something you need to get perfect, as you might in something like trail-and-error prompt engineering testing. Instead, think of it as a high-level guide to help the model understand what you're trying to achieve.\n",
    "\n",
    "In the example below, we're going to do something similar to the idea above but expound upon it to intentionally add complexity."
   ]
  },
  {
   "cell_type": "code",
   "execution_count": 16,
   "metadata": {},
   "outputs": [
    {
     "name": "stdout",
     "output_type": "stream",
     "text": [
      "==================================================\n",
      "************ BUSINESS EMAIL ANALYSIS *************\n",
      "==================================================\n",
      "📊 SENTIMENT: positive\n",
      "📝 TOPIC: quarterly financial report\n",
      "🎩 FORMALITY: formal\n",
      "🔢 WORD COUNT: 27\n",
      "--------------------------------------------------\n",
      "\n",
      "\n",
      "==================================================\n",
      "************ CASUAL MESSAGE ANALYSIS *************\n",
      "==================================================\n",
      "📊 SENTIMENT: positive\n",
      "📝 TOPIC: social gathering\n",
      "🎩 FORMALITY: informal\n",
      "🔢 WORD COUNT: 15\n",
      "--------------------------------------------------\n"
     ]
    }
   ],
   "source": [
    "# Creating a class-based DSPy signature for text analysis\n",
    "class TextAnalysisSignature(dspy.Signature):\n",
    "    \"\"\"Analyze text for sentiment, main topic, and formality level.\"\"\"\n",
    "    \n",
    "    # Setting the input fields\n",
    "    text = dspy.InputField(desc = 'The text to be analyzed', default = '')\n",
    "    language = dspy.InputField(desc = 'The language of the text', default = 'English')\n",
    "    \n",
    "    # Setting the output fields\n",
    "    sentiment = dspy.OutputField(desc = 'The sentiment of the text (positive, negative, or neutral)', default = '')\n",
    "    topic = dspy.OutputField(desc = 'The main topic of the text', default = '')\n",
    "    formality = dspy.OutputField(desc = 'The formality level (formal, informal, or neutral)', default = '')\n",
    "    word_count = dspy.OutputField(type = int, desc = 'The number of words in the text', default = 0)\n",
    "\n",
    "# Creating a module using our custom signature\n",
    "dspy_text_analyzer = dspy.Predict(TextAnalysisSignature)\n",
    "\n",
    "# Creating sample texts for analysis\n",
    "business_email = \"Dear Mr. Johnson, I am writing to follow up on our meeting last week regarding the quarterly financial report. The results exceeded our expectations.\"\n",
    "casual_message = \"Hey! Can't wait to see you this weekend. The party's gonna be awesome!\"\n",
    "\n",
    "# Analyzing the texts\n",
    "business_analysis = dspy_text_analyzer(text = business_email, language = \"English\")\n",
    "casual_analysis = dspy_text_analyzer(text = casual_message, language = \"English\")\n",
    "\n",
    "# Displaying analysis results in a more creative way\n",
    "def display_analysis(title, analysis):\n",
    "    width = 50\n",
    "    print(\"=\" * width)\n",
    "    print(f\" {title} \".center(width, \"*\"))\n",
    "    print(\"=\" * width)\n",
    "    print(f\"📊 SENTIMENT: {analysis.sentiment}\")\n",
    "    print(f\"📝 TOPIC: {analysis.topic}\")\n",
    "    print(f\"🎩 FORMALITY: {analysis.formality}\")\n",
    "    print(f\"🔢 WORD COUNT: {analysis.word_count}\")\n",
    "    print(\"-\" * width)\n",
    "    \n",
    "display_analysis(\"BUSINESS EMAIL ANALYSIS\", business_analysis)\n",
    "print(\"\\n\")\n",
    "display_analysis(\"CASUAL MESSAGE ANALYSIS\", casual_analysis)"
   ]
  },
  {
   "cell_type": "markdown",
   "metadata": {},
   "source": [
    "## Modules\n"
   ]
  },
  {
   "cell_type": "code",
   "execution_count": null,
   "metadata": {},
   "outputs": [
    {
     "name": "stdout",
     "output_type": "stream",
     "text": [
      "==================================================\n",
      "************ BUSINESS EMAIL ANALYSIS *************\n",
      "==================================================\n",
      "📊 SENTIMENT: positive\n",
      "📝 TOPIC: quarterly financial report\n",
      "🎩 FORMALITY: formal\n",
      "🔢 WORD COUNT: 27\n",
      "--------------------------------------------------\n",
      "\n",
      "\n",
      "==================================================\n",
      "************ CASUAL MESSAGE ANALYSIS *************\n",
      "==================================================\n",
      "📊 SENTIMENT: positive\n",
      "📝 TOPIC: social gathering\n",
      "🎩 FORMALITY: informal\n",
      "🔢 WORD COUNT: 15\n",
      "--------------------------------------------------\n"
     ]
    }
   ],
   "source": [
    "class TextAnalysisModule(dspy.Module):\n",
    "    \"\"\"A module for analyzing text properties using the TextAnalysisSignature.\"\"\"\n",
    "    \n",
    "    def __init__(self):\n",
    "        super().__init__()\n",
    "        # Use the existing TextAnalysisSignature that's already defined\n",
    "        self.predictor = dspy.Predict(TextAnalysisSignature)\n",
    "    \n",
    "    def forward(self, text, language = 'English'):\n",
    "        # Use the predictor to analyze the text\n",
    "        return self.predictor(text=text, language=language)\n",
    "\n",
    "\n",
    "# Creating a module using our custom signature\n",
    "dspy_text_analyzer = TextAnalysisModule()\n",
    "\n",
    "# Creating sample texts for analysis\n",
    "business_email = \"Dear Mr. Johnson, I am writing to follow up on our meeting last week regarding the quarterly financial report. The results exceeded our expectations.\"\n",
    "casual_message = \"Hey! Can't wait to see you this weekend. The party's gonna be awesome!\"\n",
    "\n",
    "# Analyzing the texts\n",
    "business_analysis = dspy_text_analyzer(text=business_email, language=\"English\")\n",
    "casual_analysis = dspy_text_analyzer(text=casual_message, language=\"English\")\n",
    "\n",
    "# Displaying analysis results\n",
    "def display_analysis(title, analysis):\n",
    "    width = 50\n",
    "    print(\"=\" * width)\n",
    "    print(f\" {title} \".center(width, \"*\"))\n",
    "    print(\"=\" * width)\n",
    "    print(f\"📊 SENTIMENT: {analysis.sentiment}\")\n",
    "    print(f\"📝 TOPIC: {analysis.topic}\")\n",
    "    print(f\"🎩 FORMALITY: {analysis.formality}\")\n",
    "    print(f\"🔢 WORD COUNT: {analysis.word_count}\")\n",
    "    print(\"-\" * width)\n",
    "    \n",
    "display_analysis(\"BUSINESS EMAIL ANALYSIS\", business_analysis)\n",
    "print(\"\\n\")\n",
    "display_analysis(\"CASUAL MESSAGE ANALYSIS\", casual_analysis)"
   ]
  },
  {
   "cell_type": "markdown",
   "metadata": {},
   "source": [
    "## Evaluation"
   ]
  },
  {
   "cell_type": "code",
   "execution_count": 26,
   "metadata": {},
   "outputs": [],
   "source": [
    "def text_metric(example, prediction):\n",
    "    score = 0.0\n",
    "    if prediction.sentiment.strip().lower() == example.sentiment.strip().lower():\n",
    "        score += 0.33\n",
    "    if prediction.topic.strip().lower() == example.topic.strip().lower():\n",
    "        score += 0.33\n",
    "    if prediction.formality.strip().lower() == example.formality.strip().lower():\n",
    "        score += 0.34\n",
    "    return score"
   ]
  },
  {
   "cell_type": "markdown",
   "metadata": {},
   "source": [
    "## Optimizer"
   ]
  },
  {
   "cell_type": "code",
   "execution_count": 27,
   "metadata": {},
   "outputs": [],
   "source": [
    "train_examples = [\n",
    "    dspy.Example(\n",
    "        text=\"I absolutely love this product! It's amazing.\",\n",
    "        sentiment=\"positive\",\n",
    "        topic=\"product review\",\n",
    "        formality=\"informal\",\n",
    "        word_count=8\n",
    "    ).with_inputs(\"text\"),\n",
    "    dspy.Example(\n",
    "        text=\"The meeting was productive and well-organized.\",\n",
    "        sentiment=\"positive\",\n",
    "        topic=\"meeting\",\n",
    "        formality=\"formal\",\n",
    "        word_count=7\n",
    "    ).with_inputs(\"text\"),\n",
    "    dspy.Example(\n",
    "        text=\"I am really disappointed with the service.\",\n",
    "        sentiment=\"negative\",\n",
    "        topic=\"complaint\",\n",
    "        formality=\"informal\",\n",
    "        word_count=6\n",
    "    ).with_inputs(\"text\"),\n",
    "    dspy.Example(\n",
    "        text=\"The movie was just okay; not too exciting but not boring either.\",\n",
    "        sentiment=\"neutral\",\n",
    "        topic=\"movie review\",\n",
    "        formality=\"informal\",\n",
    "        word_count=14\n",
    "    ).with_inputs(\"text\"),\n",
    "    dspy.Example(\n",
    "        text=\"The new smartphone exhibits exceptional performance and sleek design.\",\n",
    "        sentiment=\"positive\",\n",
    "        topic=\"technology review\",\n",
    "        formality=\"formal\",\n",
    "        word_count=12\n",
    "    ).with_inputs(\"text\"),\n",
    "    dspy.Example(\n",
    "        text=\"I'm frustrated with the slow customer support response times.\",\n",
    "        sentiment=\"negative\",\n",
    "        topic=\"customer support\",\n",
    "        formality=\"informal\",\n",
    "        word_count=10\n",
    "    ).with_inputs(\"text\"),\n",
    "    dspy.Example(\n",
    "        text=\"The seminar provided insightful knowledge about market trends.\",\n",
    "        sentiment=\"positive\",\n",
    "        topic=\"seminar\",\n",
    "        formality=\"formal\",\n",
    "        word_count=11\n",
    "    ).with_inputs(\"text\"),\n",
    "    dspy.Example(\n",
    "        text=\"The weather today is average, with a slight chance of rain.\",\n",
    "        sentiment=\"neutral\",\n",
    "        topic=\"weather report\",\n",
    "        formality=\"neutral\",\n",
    "        word_count=13\n",
    "    ).with_inputs(\"text\"),\n",
    "    dspy.Example(\n",
    "        text=\"I regret buying that item; it did not meet my expectations at all.\",\n",
    "        sentiment=\"negative\",\n",
    "        topic=\"product review\",\n",
    "        formality=\"informal\",\n",
    "        word_count=13\n",
    "    ).with_inputs(\"text\"),\n",
    "    dspy.Example(\n",
    "        text=\"The performance by the orchestra was truly magnificent and awe-inspiring.\",\n",
    "        sentiment=\"positive\",\n",
    "        topic=\"concert review\",\n",
    "        formality=\"formal\",\n",
    "        word_count=13\n",
    "    ).with_inputs(\"text\"),\n",
    "]"
   ]
  },
  {
   "cell_type": "code",
   "execution_count": 28,
   "metadata": {},
   "outputs": [],
   "source": [
    "optimizer = dspy.MIPROv2(metric = text_metric, auto = 'light')"
   ]
  },
  {
   "cell_type": "code",
   "execution_count": 33,
   "metadata": {},
   "outputs": [
    {
     "name": "stderr",
     "output_type": "stream",
     "text": [
      "2025/03/08 20:44:51 INFO dspy.teleprompt.mipro_optimizer_v2: \n",
      "RUNNING WITH THE FOLLOWING LIGHT AUTO RUN SETTINGS:\n",
      "num_trials: 7\n",
      "minibatch: False\n",
      "num_candidates: 5\n",
      "valset size: 8\n",
      "\n",
      "2025/03/08 20:44:51 INFO dspy.teleprompt.mipro_optimizer_v2: \n",
      "==> STEP 1: BOOTSTRAP FEWSHOT EXAMPLES <==\n",
      "2025/03/08 20:44:51 INFO dspy.teleprompt.mipro_optimizer_v2: These will be used as few-shot example candidates for our program and for creating instructions.\n",
      "\n",
      "2025/03/08 20:44:51 INFO dspy.teleprompt.mipro_optimizer_v2: Bootstrapping N=5 sets of demonstrations...\n"
     ]
    },
    {
     "name": "stdout",
     "output_type": "stream",
     "text": [
      "Bootstrapping set 1/5\n",
      "Bootstrapping set 2/5\n",
      "Bootstrapping set 3/5\n"
     ]
    },
    {
     "name": "stderr",
     "output_type": "stream",
     "text": [
      "  0%|          | 0/2 [00:00<?, ?it/s]2025/03/08 20:44:51 ERROR dspy.teleprompt.bootstrap: Failed to run or to evaluate example Example({'text': \"I absolutely love this product! It's amazing.\", 'sentiment': 'positive', 'topic': 'product review', 'formality': 'informal', 'word_count': 8}) (input_keys={'text'}) with <function text_metric at 0x13e8b34c0> due to text_metric() takes 2 positional arguments but 3 were given.\n",
      "2025/03/08 20:44:51 ERROR dspy.teleprompt.bootstrap: Failed to run or to evaluate example Example({'text': 'The meeting was productive and well-organized.', 'sentiment': 'positive', 'topic': 'meeting', 'formality': 'formal', 'word_count': 7}) (input_keys={'text'}) with <function text_metric at 0x13e8b34c0> due to text_metric() takes 2 positional arguments but 3 were given.\n",
      "100%|██████████| 2/2 [00:00<00:00, 800.97it/s]\n"
     ]
    },
    {
     "name": "stdout",
     "output_type": "stream",
     "text": [
      "Bootstrapped 0 full traces after 1 examples for up to 1 rounds, amounting to 2 attempts.\n",
      "Bootstrapping set 4/5\n"
     ]
    },
    {
     "name": "stderr",
     "output_type": "stream",
     "text": [
      "  0%|          | 0/2 [00:00<?, ?it/s]2025/03/08 20:44:51 ERROR dspy.teleprompt.bootstrap: Failed to run or to evaluate example Example({'text': \"I absolutely love this product! It's amazing.\", 'sentiment': 'positive', 'topic': 'product review', 'formality': 'informal', 'word_count': 8}) (input_keys={'text'}) with <function text_metric at 0x13e8b34c0> due to text_metric() takes 2 positional arguments but 3 were given.\n",
      "2025/03/08 20:44:51 ERROR dspy.teleprompt.bootstrap: Failed to run or to evaluate example Example({'text': 'The meeting was productive and well-organized.', 'sentiment': 'positive', 'topic': 'meeting', 'formality': 'formal', 'word_count': 7}) (input_keys={'text'}) with <function text_metric at 0x13e8b34c0> due to text_metric() takes 2 positional arguments but 3 were given.\n",
      "100%|██████████| 2/2 [00:00<00:00, 319.64it/s]\n"
     ]
    },
    {
     "name": "stdout",
     "output_type": "stream",
     "text": [
      "Bootstrapped 0 full traces after 1 examples for up to 1 rounds, amounting to 2 attempts.\n",
      "Bootstrapping set 5/5\n"
     ]
    },
    {
     "name": "stderr",
     "output_type": "stream",
     "text": [
      "  0%|          | 0/2 [00:00<?, ?it/s]2025/03/08 20:44:52 ERROR dspy.teleprompt.bootstrap: Failed to run or to evaluate example Example({'text': 'The meeting was productive and well-organized.', 'sentiment': 'positive', 'topic': 'meeting', 'formality': 'formal', 'word_count': 7}) (input_keys={'text'}) with <function text_metric at 0x13e8b34c0> due to text_metric() takes 2 positional arguments but 3 were given.\n",
      " 50%|█████     | 1/2 [00:00<00:00,  1.10it/s]2025/03/08 20:44:53 ERROR dspy.teleprompt.bootstrap: Failed to run or to evaluate example Example({'text': \"I absolutely love this product! It's amazing.\", 'sentiment': 'positive', 'topic': 'product review', 'formality': 'informal', 'word_count': 8}) (input_keys={'text'}) with <function text_metric at 0x13e8b34c0> due to text_metric() takes 2 positional arguments but 3 were given.\n",
      "100%|██████████| 2/2 [00:02<00:00,  1.04s/it]\n",
      "2025/03/08 20:44:53 INFO dspy.teleprompt.mipro_optimizer_v2: \n",
      "==> STEP 2: PROPOSE INSTRUCTION CANDIDATES <==\n",
      "2025/03/08 20:44:53 INFO dspy.teleprompt.mipro_optimizer_v2: We will use the few-shot examples from the previous step, a generated dataset summary, a summary of the program code, and a randomly selected prompting tip to propose instructions.\n",
      "2025/03/08 20:44:53 INFO dspy.teleprompt.mipro_optimizer_v2: \n",
      "Proposing instructions...\n",
      "\n"
     ]
    },
    {
     "name": "stdout",
     "output_type": "stream",
     "text": [
      "Bootstrapped 0 full traces after 1 examples for up to 1 rounds, amounting to 2 attempts.\n"
     ]
    },
    {
     "name": "stderr",
     "output_type": "stream",
     "text": [
      "2025/03/08 20:45:21 INFO dspy.teleprompt.mipro_optimizer_v2: Proposed Instructions for Predictor 0:\n",
      "\n",
      "2025/03/08 20:45:21 INFO dspy.teleprompt.mipro_optimizer_v2: 0: Analyze text for sentiment, main topic, and formality level.\n",
      "\n",
      "2025/03/08 20:45:21 INFO dspy.teleprompt.mipro_optimizer_v2: 1: You are a text analysis expert. Analyze the following text for sentiment (positive, negative, or neutral), main topic, and formality level (formal, informal, or neutral). Also, provide the total word count of the text. Here is the text:\n",
      "\n",
      "2025/03/08 20:45:21 INFO dspy.teleprompt.mipro_optimizer_v2: 2: Provide a detailed analysis of the given text by identifying its sentiment (positive, negative, or neutral), determining the main topic discussed, assessing the level of formality (formal, informal, or neutral), and calculating the total word count. Ensure that the analysis takes into account the context of the text, whether it is a product review or a meeting assessment, to deliver accurate insights.\n",
      "\n",
      "2025/03/08 20:45:21 INFO dspy.teleprompt.mipro_optimizer_v2: 3: Please analyze the given text to extract and provide the following information: the sentiment (indicate if it is positive, negative, or neutral), the main topic of the text, the level of formality (classify as formal, informal, or neutral), and the total word count. Ensure that the analysis accounts for the language specified and is detailed enough to reflect the nuances in the text's communication style.\n",
      "\n",
      "2025/03/08 20:45:21 INFO dspy.teleprompt.mipro_optimizer_v2: 4: Please analyze the provided text for its sentiment (positive, negative, or neutral), identify the main topic discussed, determine the level of formality (formal, informal, or neutral), and count the total number of words in the text. Ensure that your analysis considers variations in language and context, and return the results in a structured format indicating each property clearly.\n",
      "\n",
      "2025/03/08 20:45:21 INFO dspy.teleprompt.mipro_optimizer_v2: \n",
      "\n",
      "2025/03/08 20:45:21 INFO dspy.teleprompt.mipro_optimizer_v2: ==> STEP 3: FINDING OPTIMAL PROMPT PARAMETERS <==\n",
      "2025/03/08 20:45:21 INFO dspy.teleprompt.mipro_optimizer_v2: We will evaluate the program over a series of trials with different combinations of instructions and few-shot examples to find the optimal combination using Bayesian Optimization.\n",
      "\n",
      "2025/03/08 20:45:21 INFO dspy.teleprompt.mipro_optimizer_v2: == Trial 1 / 7 - Full Evaluation of Default Program ==\n"
     ]
    },
    {
     "name": "stdout",
     "output_type": "stream",
     "text": [
      "Average Metric: 5.68 / 8 (71.0%): 100%|██████████| 8/8 [00:00<00:00, 1901.10it/s]"
     ]
    },
    {
     "name": "stderr",
     "output_type": "stream",
     "text": [
      "2025/03/08 20:45:21 INFO dspy.evaluate.evaluate: Average Metric: 5.680000000000001 / 8 (71.0%)\n",
      "2025/03/08 20:45:21 INFO dspy.teleprompt.mipro_optimizer_v2: Default program score: 71.0\n",
      "\n",
      "/Users/dkhundley/Documents/Repositories/dspy-tutorial/.venv/lib/python3.12/site-packages/optuna/_experimental.py:31: ExperimentalWarning: Argument ``multivariate`` is an experimental feature. The interface can change in the future.\n",
      "  warnings.warn(\n",
      "2025/03/08 20:45:21 INFO dspy.teleprompt.mipro_optimizer_v2: ===== Trial 2 / 7 =====\n"
     ]
    },
    {
     "name": "stdout",
     "output_type": "stream",
     "text": [
      "\n",
      "Average Metric: 5.01 / 8 (62.6%): 100%|██████████| 8/8 [00:01<00:00,  4.02it/s]"
     ]
    },
    {
     "name": "stderr",
     "output_type": "stream",
     "text": [
      "2025/03/08 20:45:23 INFO dspy.evaluate.evaluate: Average Metric: 5.01 / 8 (62.6%)\n",
      "2025/03/08 20:45:23 INFO dspy.teleprompt.mipro_optimizer_v2: Score: 62.62 with parameters ['Predictor 0: Instruction 1', 'Predictor 0: Few-Shot Set 1'].\n",
      "2025/03/08 20:45:23 INFO dspy.teleprompt.mipro_optimizer_v2: Scores so far: [71.0, 62.62]\n",
      "2025/03/08 20:45:23 INFO dspy.teleprompt.mipro_optimizer_v2: Best score so far: 71.0\n",
      "2025/03/08 20:45:23 INFO dspy.teleprompt.mipro_optimizer_v2: =======================\n",
      "\n",
      "\n",
      "2025/03/08 20:45:23 INFO dspy.teleprompt.mipro_optimizer_v2: ===== Trial 3 / 7 =====\n"
     ]
    },
    {
     "name": "stdout",
     "output_type": "stream",
     "text": [
      "\n",
      "Average Metric: 6.68 / 8 (83.5%): 100%|██████████| 8/8 [00:01<00:00,  5.36it/s]"
     ]
    },
    {
     "name": "stderr",
     "output_type": "stream",
     "text": [
      "2025/03/08 20:45:25 INFO dspy.evaluate.evaluate: Average Metric: 6.68 / 8 (83.5%)\n",
      "2025/03/08 20:45:25 INFO dspy.teleprompt.mipro_optimizer_v2: \u001b[92mBest full score so far!\u001b[0m Score: 83.5\n",
      "2025/03/08 20:45:25 INFO dspy.teleprompt.mipro_optimizer_v2: Score: 83.5 with parameters ['Predictor 0: Instruction 2', 'Predictor 0: Few-Shot Set 1'].\n",
      "2025/03/08 20:45:25 INFO dspy.teleprompt.mipro_optimizer_v2: Scores so far: [71.0, 62.62, 83.5]\n",
      "2025/03/08 20:45:25 INFO dspy.teleprompt.mipro_optimizer_v2: Best score so far: 83.5\n",
      "2025/03/08 20:45:25 INFO dspy.teleprompt.mipro_optimizer_v2: =======================\n",
      "\n",
      "\n",
      "2025/03/08 20:45:25 INFO dspy.teleprompt.mipro_optimizer_v2: ===== Trial 4 / 7 =====\n"
     ]
    },
    {
     "name": "stdout",
     "output_type": "stream",
     "text": [
      "\n",
      "Average Metric: 5.01 / 8 (62.6%): 100%|██████████| 8/8 [00:01<00:00,  4.65it/s]"
     ]
    },
    {
     "name": "stderr",
     "output_type": "stream",
     "text": [
      "2025/03/08 20:45:27 INFO dspy.evaluate.evaluate: Average Metric: 5.01 / 8 (62.6%)\n",
      "2025/03/08 20:45:27 INFO dspy.teleprompt.mipro_optimizer_v2: Score: 62.62 with parameters ['Predictor 0: Instruction 4', 'Predictor 0: Few-Shot Set 1'].\n",
      "2025/03/08 20:45:27 INFO dspy.teleprompt.mipro_optimizer_v2: Scores so far: [71.0, 62.62, 83.5, 62.62]\n",
      "2025/03/08 20:45:27 INFO dspy.teleprompt.mipro_optimizer_v2: Best score so far: 83.5\n",
      "2025/03/08 20:45:27 INFO dspy.teleprompt.mipro_optimizer_v2: =======================\n",
      "\n",
      "\n",
      "2025/03/08 20:45:27 INFO dspy.teleprompt.mipro_optimizer_v2: ===== Trial 5 / 7 =====\n"
     ]
    },
    {
     "name": "stdout",
     "output_type": "stream",
     "text": [
      "\n",
      "Average Metric: 6.68 / 8 (83.5%): 100%|██████████| 8/8 [00:00<00:00, 3344.74it/s]"
     ]
    },
    {
     "name": "stderr",
     "output_type": "stream",
     "text": [
      "2025/03/08 20:45:27 INFO dspy.evaluate.evaluate: Average Metric: 6.68 / 8 (83.5%)\n",
      "2025/03/08 20:45:27 INFO dspy.teleprompt.mipro_optimizer_v2: Score: 83.5 with parameters ['Predictor 0: Instruction 2', 'Predictor 0: Few-Shot Set 1'].\n",
      "2025/03/08 20:45:27 INFO dspy.teleprompt.mipro_optimizer_v2: Scores so far: [71.0, 62.62, 83.5, 62.62, 83.5]\n",
      "2025/03/08 20:45:27 INFO dspy.teleprompt.mipro_optimizer_v2: Best score so far: 83.5\n",
      "2025/03/08 20:45:27 INFO dspy.teleprompt.mipro_optimizer_v2: =======================\n",
      "\n",
      "\n",
      "2025/03/08 20:45:27 INFO dspy.teleprompt.mipro_optimizer_v2: ===== Trial 6 / 7 =====\n"
     ]
    },
    {
     "name": "stdout",
     "output_type": "stream",
     "text": [
      "\n",
      "Average Metric: 5.01 / 8 (62.6%): 100%|██████████| 8/8 [00:00<00:00, 3877.78it/s]"
     ]
    },
    {
     "name": "stderr",
     "output_type": "stream",
     "text": [
      "2025/03/08 20:45:27 INFO dspy.evaluate.evaluate: Average Metric: 5.01 / 8 (62.6%)\n",
      "2025/03/08 20:45:27 INFO dspy.teleprompt.mipro_optimizer_v2: Score: 62.62 with parameters ['Predictor 0: Instruction 4', 'Predictor 0: Few-Shot Set 3'].\n",
      "2025/03/08 20:45:27 INFO dspy.teleprompt.mipro_optimizer_v2: Scores so far: [71.0, 62.62, 83.5, 62.62, 83.5, 62.62]\n",
      "2025/03/08 20:45:27 INFO dspy.teleprompt.mipro_optimizer_v2: Best score so far: 83.5\n",
      "2025/03/08 20:45:27 INFO dspy.teleprompt.mipro_optimizer_v2: =======================\n",
      "\n",
      "\n",
      "2025/03/08 20:45:27 INFO dspy.teleprompt.mipro_optimizer_v2: ===== Trial 7 / 7 =====\n"
     ]
    },
    {
     "name": "stdout",
     "output_type": "stream",
     "text": [
      "\n",
      "Average Metric: 5.34 / 8 (66.8%): 100%|██████████| 8/8 [00:00<00:00, 3356.79it/s]"
     ]
    },
    {
     "name": "stderr",
     "output_type": "stream",
     "text": [
      "2025/03/08 20:45:27 INFO dspy.evaluate.evaluate: Average Metric: 5.34 / 8 (66.8%)\n",
      "2025/03/08 20:45:27 INFO dspy.teleprompt.mipro_optimizer_v2: Score: 66.75 with parameters ['Predictor 0: Instruction 0', 'Predictor 0: Few-Shot Set 1'].\n",
      "2025/03/08 20:45:27 INFO dspy.teleprompt.mipro_optimizer_v2: Scores so far: [71.0, 62.62, 83.5, 62.62, 83.5, 62.62, 66.75]\n",
      "2025/03/08 20:45:27 INFO dspy.teleprompt.mipro_optimizer_v2: Best score so far: 83.5\n",
      "2025/03/08 20:45:27 INFO dspy.teleprompt.mipro_optimizer_v2: =======================\n",
      "\n",
      "\n",
      "2025/03/08 20:45:27 INFO dspy.teleprompt.mipro_optimizer_v2: Returning best identified program with score 83.5!\n"
     ]
    },
    {
     "name": "stdout",
     "output_type": "stream",
     "text": [
      "\n"
     ]
    }
   ],
   "source": [
    "optimized_dspy_text_analyzer = optimizer.compile(\n",
    "    dspy_text_analyzer.deepcopy(),\n",
    "    trainset = train_examples,\n",
    "    max_bootstrapped_demos = 5,\n",
    "    max_labeled_demos = 1,\n",
    "    requires_permission_to_run = False\n",
    ")"
   ]
  },
  {
   "cell_type": "code",
   "execution_count": 31,
   "metadata": {},
   "outputs": [],
   "source": [
    "optimized_dspy_text_analyzer.save('optimized_dspy_text_analyzer.json')"
   ]
  },
  {
   "cell_type": "code",
   "execution_count": 32,
   "metadata": {},
   "outputs": [
    {
     "data": {
      "text/plain": [
       "[{'score': 71.0,\n",
       "  'program': predictor = Predict(TextAnalysisSignature(text, language -> sentiment, topic, formality, word_count\n",
       "      instructions='Analyze text for sentiment, main topic, and formality level.'\n",
       "      text = Field(annotation=str required=False default='' json_schema_extra={'desc': 'The text to be analyzed', '__dspy_field_type': 'input', 'prefix': 'Text:'})\n",
       "      language = Field(annotation=str required=False default='English' json_schema_extra={'desc': 'The language of the text', '__dspy_field_type': 'input', 'prefix': 'Language:'})\n",
       "      sentiment = Field(annotation=str required=False default='' json_schema_extra={'desc': 'The sentiment of the text (positive, negative, or neutral)', '__dspy_field_type': 'output', 'prefix': 'Sentiment:'})\n",
       "      topic = Field(annotation=str required=False default='' json_schema_extra={'desc': 'The main topic of the text', '__dspy_field_type': 'output', 'prefix': 'Topic:'})\n",
       "      formality = Field(annotation=str required=False default='' json_schema_extra={'desc': 'The formality level (formal, informal, or neutral)', '__dspy_field_type': 'output', 'prefix': 'Formality:'})\n",
       "      word_count = Field(annotation=str required=False default=0 json_schema_extra={'desc': 'The number of words in the text', '__dspy_field_type': 'output', 'prefix': 'Word Count:'})\n",
       "  )),\n",
       "  'full_eval': True},\n",
       " {'score': 66.75,\n",
       "  'program': predictor = Predict(StringSignature(text, language -> sentiment, topic, formality, word_count\n",
       "      instructions='Analyze text for sentiment, main topic, and formality level.'\n",
       "      text = Field(annotation=str required=False default='' json_schema_extra={'desc': 'The text to be analyzed', '__dspy_field_type': 'input', 'prefix': 'Text:'})\n",
       "      language = Field(annotation=str required=False default='English' json_schema_extra={'desc': 'The language of the text', '__dspy_field_type': 'input', 'prefix': 'Language:'})\n",
       "      sentiment = Field(annotation=str required=False default='' json_schema_extra={'desc': 'The sentiment of the text (positive, negative, or neutral)', '__dspy_field_type': 'output', 'prefix': 'Sentiment:'})\n",
       "      topic = Field(annotation=str required=False default='' json_schema_extra={'desc': 'The main topic of the text', '__dspy_field_type': 'output', 'prefix': 'Topic:'})\n",
       "      formality = Field(annotation=str required=False default='' json_schema_extra={'desc': 'The formality level (formal, informal, or neutral)', '__dspy_field_type': 'output', 'prefix': 'Formality:'})\n",
       "      word_count = Field(annotation=str required=False default=0 json_schema_extra={'desc': 'The number of words in the text', '__dspy_field_type': 'output', 'prefix': 'Word Count:'})\n",
       "  )),\n",
       "  'full_eval': True},\n",
       " {'score': 62.62,\n",
       "  'program': predictor = Predict(StringSignature(text, language -> sentiment, topic, formality, word_count\n",
       "      instructions='You are an advanced text analysis tool. Analyze the following text for its sentiment, main topic, and formality level. Provide a detailed breakdown of the sentiment (positive, negative, or neutral), identify the main topic discussed, and classify the formality level (formal, informal, or neutral). Additionally, include the total word count of the text provided.'\n",
       "      text = Field(annotation=str required=False default='' json_schema_extra={'desc': 'The text to be analyzed', '__dspy_field_type': 'input', 'prefix': 'Text:'})\n",
       "      language = Field(annotation=str required=False default='English' json_schema_extra={'desc': 'The language of the text', '__dspy_field_type': 'input', 'prefix': 'Language:'})\n",
       "      sentiment = Field(annotation=str required=False default='' json_schema_extra={'desc': 'The sentiment of the text (positive, negative, or neutral)', '__dspy_field_type': 'output', 'prefix': 'Sentiment:'})\n",
       "      topic = Field(annotation=str required=False default='' json_schema_extra={'desc': 'The main topic of the text', '__dspy_field_type': 'output', 'prefix': 'Topic:'})\n",
       "      formality = Field(annotation=str required=False default='' json_schema_extra={'desc': 'The formality level (formal, informal, or neutral)', '__dspy_field_type': 'output', 'prefix': 'Formality:'})\n",
       "      word_count = Field(annotation=str required=False default=0 json_schema_extra={'desc': 'The number of words in the text', '__dspy_field_type': 'output', 'prefix': 'Word Count:'})\n",
       "  )),\n",
       "  'full_eval': True},\n",
       " {'score': 62.5,\n",
       "  'program': predictor = Predict(StringSignature(text, language -> sentiment, topic, formality, word_count\n",
       "      instructions='Given the following text, analyze it for sentiment, main topic, and formality level. Please provide the sentiment as positive, negative, or neutral, identify the main topic, and classify the formality level as formal, informal, or neutral. Additionally, include the total word count of the text.'\n",
       "      text = Field(annotation=str required=False default='' json_schema_extra={'desc': 'The text to be analyzed', '__dspy_field_type': 'input', 'prefix': 'Text:'})\n",
       "      language = Field(annotation=str required=False default='English' json_schema_extra={'desc': 'The language of the text', '__dspy_field_type': 'input', 'prefix': 'Language:'})\n",
       "      sentiment = Field(annotation=str required=False default='' json_schema_extra={'desc': 'The sentiment of the text (positive, negative, or neutral)', '__dspy_field_type': 'output', 'prefix': 'Sentiment:'})\n",
       "      topic = Field(annotation=str required=False default='' json_schema_extra={'desc': 'The main topic of the text', '__dspy_field_type': 'output', 'prefix': 'Topic:'})\n",
       "      formality = Field(annotation=str required=False default='' json_schema_extra={'desc': 'The formality level (formal, informal, or neutral)', '__dspy_field_type': 'output', 'prefix': 'Formality:'})\n",
       "      word_count = Field(annotation=str required=False default=0 json_schema_extra={'desc': 'The number of words in the text', '__dspy_field_type': 'output', 'prefix': 'Word Count:'})\n",
       "  )),\n",
       "  'full_eval': True},\n",
       " {'score': 62.5,\n",
       "  'program': predictor = Predict(StringSignature(text, language -> sentiment, topic, formality, word_count\n",
       "      instructions='Given the following text, analyze it for sentiment, main topic, and formality level. Please provide the sentiment as positive, negative, or neutral, identify the main topic, and classify the formality level as formal, informal, or neutral. Additionally, include the total word count of the text.'\n",
       "      text = Field(annotation=str required=False default='' json_schema_extra={'desc': 'The text to be analyzed', '__dspy_field_type': 'input', 'prefix': 'Text:'})\n",
       "      language = Field(annotation=str required=False default='English' json_schema_extra={'desc': 'The language of the text', '__dspy_field_type': 'input', 'prefix': 'Language:'})\n",
       "      sentiment = Field(annotation=str required=False default='' json_schema_extra={'desc': 'The sentiment of the text (positive, negative, or neutral)', '__dspy_field_type': 'output', 'prefix': 'Sentiment:'})\n",
       "      topic = Field(annotation=str required=False default='' json_schema_extra={'desc': 'The main topic of the text', '__dspy_field_type': 'output', 'prefix': 'Topic:'})\n",
       "      formality = Field(annotation=str required=False default='' json_schema_extra={'desc': 'The formality level (formal, informal, or neutral)', '__dspy_field_type': 'output', 'prefix': 'Formality:'})\n",
       "      word_count = Field(annotation=str required=False default=0 json_schema_extra={'desc': 'The number of words in the text', '__dspy_field_type': 'output', 'prefix': 'Word Count:'})\n",
       "  )),\n",
       "  'full_eval': True},\n",
       " {'score': 58.38,\n",
       "  'program': predictor = Predict(StringSignature(text, language -> sentiment, topic, formality, word_count\n",
       "      instructions='You are a text analysis expert. Analyze the following text for sentiment, main topic, and formality level. Provide a detailed breakdown of the sentiment (positive, negative, or neutral), identify the main topic discussed, determine the level of formality (formal, informal, or neutral), and count the number of words in the text.'\n",
       "      text = Field(annotation=str required=False default='' json_schema_extra={'desc': 'The text to be analyzed', '__dspy_field_type': 'input', 'prefix': 'Text:'})\n",
       "      language = Field(annotation=str required=False default='English' json_schema_extra={'desc': 'The language of the text', '__dspy_field_type': 'input', 'prefix': 'Language:'})\n",
       "      sentiment = Field(annotation=str required=False default='' json_schema_extra={'desc': 'The sentiment of the text (positive, negative, or neutral)', '__dspy_field_type': 'output', 'prefix': 'Sentiment:'})\n",
       "      topic = Field(annotation=str required=False default='' json_schema_extra={'desc': 'The main topic of the text', '__dspy_field_type': 'output', 'prefix': 'Topic:'})\n",
       "      formality = Field(annotation=str required=False default='' json_schema_extra={'desc': 'The formality level (formal, informal, or neutral)', '__dspy_field_type': 'output', 'prefix': 'Formality:'})\n",
       "      word_count = Field(annotation=str required=False default=0 json_schema_extra={'desc': 'The number of words in the text', '__dspy_field_type': 'output', 'prefix': 'Word Count:'})\n",
       "  )),\n",
       "  'full_eval': True},\n",
       " {'score': 58.38,\n",
       "  'program': predictor = Predict(StringSignature(text, language -> sentiment, topic, formality, word_count\n",
       "      instructions='You are a text analysis expert. Analyze the following text for sentiment, main topic, and formality level. Provide a detailed breakdown of the sentiment (positive, negative, or neutral), identify the main topic discussed, determine the level of formality (formal, informal, or neutral), and count the number of words in the text.'\n",
       "      text = Field(annotation=str required=False default='' json_schema_extra={'desc': 'The text to be analyzed', '__dspy_field_type': 'input', 'prefix': 'Text:'})\n",
       "      language = Field(annotation=str required=False default='English' json_schema_extra={'desc': 'The language of the text', '__dspy_field_type': 'input', 'prefix': 'Language:'})\n",
       "      sentiment = Field(annotation=str required=False default='' json_schema_extra={'desc': 'The sentiment of the text (positive, negative, or neutral)', '__dspy_field_type': 'output', 'prefix': 'Sentiment:'})\n",
       "      topic = Field(annotation=str required=False default='' json_schema_extra={'desc': 'The main topic of the text', '__dspy_field_type': 'output', 'prefix': 'Topic:'})\n",
       "      formality = Field(annotation=str required=False default='' json_schema_extra={'desc': 'The formality level (formal, informal, or neutral)', '__dspy_field_type': 'output', 'prefix': 'Formality:'})\n",
       "      word_count = Field(annotation=str required=False default=0 json_schema_extra={'desc': 'The number of words in the text', '__dspy_field_type': 'output', 'prefix': 'Word Count:'})\n",
       "  )),\n",
       "  'full_eval': True}]"
      ]
     },
     "execution_count": 32,
     "metadata": {},
     "output_type": "execute_result"
    }
   ],
   "source": [
    "optimized_dspy_text_analyzer.candidate_programs"
   ]
  },
  {
   "cell_type": "code",
   "execution_count": null,
   "metadata": {},
   "outputs": [],
   "source": []
  }
 ],
 "metadata": {
  "kernelspec": {
   "display_name": "dspy_venv",
   "language": "python",
   "name": "dspy_venv"
  },
  "language_info": {
   "codemirror_mode": {
    "name": "ipython",
    "version": 3
   },
   "file_extension": ".py",
   "mimetype": "text/x-python",
   "name": "python",
   "nbconvert_exporter": "python",
   "pygments_lexer": "ipython3",
   "version": "3.12.9"
  }
 },
 "nbformat": 4,
 "nbformat_minor": 2
}
